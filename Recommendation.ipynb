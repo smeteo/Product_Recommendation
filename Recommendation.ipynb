{
 "cells": [
  {
   "cell_type": "markdown",
   "id": "314bcef6-1d0f-46c7-b9cb-4d616bdbe2c0",
   "metadata": {},
   "source": [
    "# Recommendation System (Collaborative Filtering)"
   ]
  },
  {
   "cell_type": "markdown",
   "id": "96cc0c27-deda-46af-8380-3061ae62383b",
   "metadata": {},
   "source": [
    "### Importing Required Libraries"
   ]
  },
  {
   "cell_type": "code",
   "execution_count": 1,
   "id": "8e95354c-d050-4919-ae7b-cde2d4456b35",
   "metadata": {
    "tags": []
   },
   "outputs": [],
   "source": [
    "# Basic Libraries for data and arrays\n",
    "import pandas as pd\n",
    "import numpy as np\n",
    "\n",
    "# Visualization\n",
    "import matplotlib.pyplot as plt\n",
    "import seaborn as sns\n",
    "%matplotlib inline\n",
    "plt.style.use('ggplot')\n",
    "\n",
    "# MySQL connection\n",
    "import mysql.connector\n",
    "\n",
    "# Ignoring unnecessary warnings\n",
    "import warnings\n",
    "warnings.filterwarnings(\"ignore\")"
   ]
  },
  {
   "cell_type": "markdown",
   "id": "822b635b-f6ba-497d-9927-750c69c14749",
   "metadata": {},
   "source": [
    "### Connecting MySQL Database"
   ]
  },
  {
   "cell_type": "code",
   "execution_count": 2,
   "id": "6e929b1e-356d-49aa-9477-1e639e5570e5",
   "metadata": {
    "tags": []
   },
   "outputs": [],
   "source": [
    "# Connecting trendscout database\n",
    "mydb = mysql.connector.connect(\n",
    "  host=\"localhost\",\n",
    "  user=\"root\",\n",
    "  password=\"xxx\",\n",
    "  database=\"trendskout_test\"\n",
    ")\n",
    "mycursor = mydb.cursor()\n",
    "\n",
    "# Extracting recommendation table\n",
    "mycursor.execute(\"SELECT * FROM recommendation\")\n",
    "\n",
    "myresult = mycursor.fetchall()"
   ]
  },
  {
   "cell_type": "code",
   "execution_count": 3,
   "id": "4c90a7af-0f81-47ad-ba71-dfaaa55eb9a6",
   "metadata": {},
   "outputs": [
    {
     "data": {
      "text/plain": [
       "[(73, 21, 3999),\n",
       " (83, 21, 3760),\n",
       " (111, 21, 4248),\n",
       " (117, 21, 3746),\n",
       " (119, 21, 3747)]"
      ]
     },
     "execution_count": 3,
     "metadata": {},
     "output_type": "execute_result"
    }
   ],
   "source": [
    "# Selecting top 5 tuples\n",
    "myresult[:5]"
   ]
  },
  {
   "cell_type": "markdown",
   "id": "fd5ed0f4-b30c-4950-b7f3-34aa67cd911f",
   "metadata": {
    "tags": []
   },
   "source": [
    "### Creating DataFrame"
   ]
  },
  {
   "cell_type": "code",
   "execution_count": 4,
   "id": "15f053c5-af11-4039-a971-cc87f0915efd",
   "metadata": {
    "tags": []
   },
   "outputs": [
    {
     "data": {
      "text/html": [
       "<div>\n",
       "<style scoped>\n",
       "    .dataframe tbody tr th:only-of-type {\n",
       "        vertical-align: middle;\n",
       "    }\n",
       "\n",
       "    .dataframe tbody tr th {\n",
       "        vertical-align: top;\n",
       "    }\n",
       "\n",
       "    .dataframe thead th {\n",
       "        text-align: right;\n",
       "    }\n",
       "</style>\n",
       "<table border=\"1\" class=\"dataframe\">\n",
       "  <thead>\n",
       "    <tr style=\"text-align: right;\">\n",
       "      <th></th>\n",
       "      <th>id</th>\n",
       "      <th>order_id</th>\n",
       "      <th>product_id</th>\n",
       "    </tr>\n",
       "  </thead>\n",
       "  <tbody>\n",
       "    <tr>\n",
       "      <th>0</th>\n",
       "      <td>73</td>\n",
       "      <td>21</td>\n",
       "      <td>3999</td>\n",
       "    </tr>\n",
       "    <tr>\n",
       "      <th>1</th>\n",
       "      <td>83</td>\n",
       "      <td>21</td>\n",
       "      <td>3760</td>\n",
       "    </tr>\n",
       "    <tr>\n",
       "      <th>2</th>\n",
       "      <td>111</td>\n",
       "      <td>21</td>\n",
       "      <td>4248</td>\n",
       "    </tr>\n",
       "    <tr>\n",
       "      <th>3</th>\n",
       "      <td>117</td>\n",
       "      <td>21</td>\n",
       "      <td>3746</td>\n",
       "    </tr>\n",
       "    <tr>\n",
       "      <th>4</th>\n",
       "      <td>119</td>\n",
       "      <td>21</td>\n",
       "      <td>3747</td>\n",
       "    </tr>\n",
       "    <tr>\n",
       "      <th>...</th>\n",
       "      <td>...</td>\n",
       "      <td>...</td>\n",
       "      <td>...</td>\n",
       "    </tr>\n",
       "    <tr>\n",
       "      <th>41285</th>\n",
       "      <td>406202</td>\n",
       "      <td>53905</td>\n",
       "      <td>8883</td>\n",
       "    </tr>\n",
       "    <tr>\n",
       "      <th>41286</th>\n",
       "      <td>406208</td>\n",
       "      <td>53905</td>\n",
       "      <td>5398</td>\n",
       "    </tr>\n",
       "    <tr>\n",
       "      <th>41287</th>\n",
       "      <td>406214</td>\n",
       "      <td>53905</td>\n",
       "      <td>8956</td>\n",
       "    </tr>\n",
       "    <tr>\n",
       "      <th>41288</th>\n",
       "      <td>406242</td>\n",
       "      <td>53908</td>\n",
       "      <td>8826</td>\n",
       "    </tr>\n",
       "    <tr>\n",
       "      <th>41289</th>\n",
       "      <td>406243</td>\n",
       "      <td>53908</td>\n",
       "      <td>5076</td>\n",
       "    </tr>\n",
       "  </tbody>\n",
       "</table>\n",
       "<p>41290 rows × 3 columns</p>\n",
       "</div>"
      ],
      "text/plain": [
       "           id  order_id  product_id\n",
       "0          73        21        3999\n",
       "1          83        21        3760\n",
       "2         111        21        4248\n",
       "3         117        21        3746\n",
       "4         119        21        3747\n",
       "...       ...       ...         ...\n",
       "41285  406202     53905        8883\n",
       "41286  406208     53905        5398\n",
       "41287  406214     53905        8956\n",
       "41288  406242     53908        8826\n",
       "41289  406243     53908        5076\n",
       "\n",
       "[41290 rows x 3 columns]"
      ]
     },
     "execution_count": 4,
     "metadata": {},
     "output_type": "execute_result"
    }
   ],
   "source": [
    "df_rec = pd.DataFrame(myresult, columns=['id','order_id','product_id'])\n",
    "df_rec"
   ]
  },
  {
   "cell_type": "markdown",
   "id": "657b9ddc-ceaa-4d9f-8683-fade81179196",
   "metadata": {
    "tags": []
   },
   "source": [
    "### Exploratory Data Analysis"
   ]
  },
  {
   "cell_type": "code",
   "execution_count": 5,
   "id": "096fe0ef-a37d-49d3-b6bc-efe49ec4e99c",
   "metadata": {},
   "outputs": [],
   "source": [
    "# check order item quantity, plot"
   ]
  },
  {
   "cell_type": "code",
   "execution_count": 6,
   "id": "6590f215-6129-4d97-871d-9cad27c8897c",
   "metadata": {
    "tags": []
   },
   "outputs": [
    {
     "name": "stdout",
     "output_type": "stream",
     "text": [
      "<class 'pandas.core.frame.DataFrame'>\n",
      "RangeIndex: 41290 entries, 0 to 41289\n",
      "Data columns (total 3 columns):\n",
      " #   Column      Non-Null Count  Dtype\n",
      "---  ------      --------------  -----\n",
      " 0   id          41290 non-null  int64\n",
      " 1   order_id    41290 non-null  int64\n",
      " 2   product_id  41290 non-null  int64\n",
      "dtypes: int64(3)\n",
      "memory usage: 967.9 KB\n"
     ]
    }
   ],
   "source": [
    "df_rec.info()"
   ]
  },
  {
   "cell_type": "code",
   "execution_count": 7,
   "id": "9988d082-bf45-4f42-9e95-718e4c3f8224",
   "metadata": {},
   "outputs": [
    {
     "data": {
      "text/plain": [
       "(41290, 3)"
      ]
     },
     "execution_count": 7,
     "metadata": {},
     "output_type": "execute_result"
    }
   ],
   "source": [
    "df_rec.shape"
   ]
  },
  {
   "cell_type": "code",
   "execution_count": 8,
   "id": "921f58bb-919d-4fe7-ba58-ca003ad954c8",
   "metadata": {
    "tags": []
   },
   "outputs": [
    {
     "data": {
      "text/plain": [
       "5076     1497\n",
       "3949     1464\n",
       "3947     1261\n",
       "5733      838\n",
       "4038      669\n",
       "         ... \n",
       "5550        1\n",
       "9152        1\n",
       "9140        1\n",
       "6169        1\n",
       "10976       1\n",
       "Name: product_id, Length: 950, dtype: int64"
      ]
     },
     "execution_count": 8,
     "metadata": {},
     "output_type": "execute_result"
    }
   ],
   "source": [
    "# Production frequency\n",
    "df_rec.product_id.value_counts()"
   ]
  },
  {
   "cell_type": "code",
   "execution_count": 9,
   "id": "f19c98b7-5fae-4ed8-9e48-4d5fd086a061",
   "metadata": {
    "tags": []
   },
   "outputs": [
    {
     "data": {
      "text/plain": [
       "46241    40\n",
       "41281    30\n",
       "33000    29\n",
       "46906    29\n",
       "42892    26\n",
       "         ..\n",
       "32534     1\n",
       "32535     1\n",
       "32544     1\n",
       "32547     1\n",
       "27648     1\n",
       "Name: order_id, Length: 20201, dtype: int64"
      ]
     },
     "execution_count": 9,
     "metadata": {},
     "output_type": "execute_result"
    }
   ],
   "source": [
    "# order_id frequency\n",
    "df_rec.order_id.value_counts()"
   ]
  },
  {
   "cell_type": "code",
   "execution_count": 10,
   "id": "bf55f99c-b82b-4378-829e-a49d82bdca4b",
   "metadata": {
    "tags": []
   },
   "outputs": [
    {
     "data": {
      "text/html": [
       "<div>\n",
       "<style scoped>\n",
       "    .dataframe tbody tr th:only-of-type {\n",
       "        vertical-align: middle;\n",
       "    }\n",
       "\n",
       "    .dataframe tbody tr th {\n",
       "        vertical-align: top;\n",
       "    }\n",
       "\n",
       "    .dataframe thead th {\n",
       "        text-align: right;\n",
       "    }\n",
       "</style>\n",
       "<table border=\"1\" class=\"dataframe\">\n",
       "  <thead>\n",
       "    <tr style=\"text-align: right;\">\n",
       "      <th></th>\n",
       "      <th>id</th>\n",
       "      <th>order_id</th>\n",
       "      <th>product_id</th>\n",
       "    </tr>\n",
       "  </thead>\n",
       "  <tbody>\n",
       "    <tr>\n",
       "      <th>0</th>\n",
       "      <td>73</td>\n",
       "      <td>21</td>\n",
       "      <td>3999</td>\n",
       "    </tr>\n",
       "    <tr>\n",
       "      <th>1</th>\n",
       "      <td>83</td>\n",
       "      <td>21</td>\n",
       "      <td>3760</td>\n",
       "    </tr>\n",
       "    <tr>\n",
       "      <th>2</th>\n",
       "      <td>111</td>\n",
       "      <td>21</td>\n",
       "      <td>4248</td>\n",
       "    </tr>\n",
       "    <tr>\n",
       "      <th>3</th>\n",
       "      <td>117</td>\n",
       "      <td>21</td>\n",
       "      <td>3746</td>\n",
       "    </tr>\n",
       "    <tr>\n",
       "      <th>4</th>\n",
       "      <td>119</td>\n",
       "      <td>21</td>\n",
       "      <td>3747</td>\n",
       "    </tr>\n",
       "  </tbody>\n",
       "</table>\n",
       "</div>"
      ],
      "text/plain": [
       "    id  order_id  product_id\n",
       "0   73        21        3999\n",
       "1   83        21        3760\n",
       "2  111        21        4248\n",
       "3  117        21        3746\n",
       "4  119        21        3747"
      ]
     },
     "execution_count": 10,
     "metadata": {},
     "output_type": "execute_result"
    }
   ],
   "source": [
    "df_rec.head()"
   ]
  },
  {
   "cell_type": "markdown",
   "id": "4579c72b-330d-4ec2-9336-155c63ef981d",
   "metadata": {},
   "source": [
    "### Most Popular 20 Products"
   ]
  },
  {
   "cell_type": "code",
   "execution_count": 11,
   "id": "23722eb8-79b5-4d3b-bf60-fbd8511399f2",
   "metadata": {
    "tags": []
   },
   "outputs": [
    {
     "data": {
      "image/png": "[encoded data removed]",
      "text/plain": [
       "<Figure size 720x432 with 1 Axes>"
      ]
     },
     "metadata": {},
     "output_type": "display_data"
    }
   ],
   "source": [
    "plt.figure(figsize=(10,6))\n",
    "df_rec.product_id.value_counts().head(20).plot(kind='bar')\n",
    "plt.title('Most Popular 20 Products')\n",
    "plt.xlabel('Product_id')\n",
    "plt.ylabel('Number of Orders');"
   ]
  },
  {
   "cell_type": "code",
   "execution_count": 12,
   "id": "54b4d91a-78c1-4829-90ce-7de41e455b5b",
   "metadata": {
    "tags": []
   },
   "outputs": [
    {
     "data": {
      "text/plain": [
       "73        1\n",
       "262076    1\n",
       "262331    1\n",
       "262333    1\n",
       "262334    1\n",
       "         ..\n",
       "131852    1\n",
       "131853    1\n",
       "131866    1\n",
       "131868    1\n",
       "406243    1\n",
       "Name: id, Length: 41290, dtype: int64"
      ]
     },
     "execution_count": 12,
     "metadata": {},
     "output_type": "execute_result"
    }
   ],
   "source": [
    "# cheking id uniqueness\n",
    "df_rec.id.value_counts()"
   ]
  },
  {
   "cell_type": "code",
   "execution_count": 13,
   "id": "ce3dafc6-ce68-423f-b02c-334b879f1f82",
   "metadata": {
    "tags": []
   },
   "outputs": [
    {
     "data": {
      "text/plain": [
       "order_id  product_id\n",
       "33000     5799          9\n",
       "46241     5894          8\n",
       "33000     5824          8\n",
       "50589     8827          8\n",
       "46241     5797          7\n",
       "                       ..\n",
       "19824     3947          1\n",
       "          3949          1\n",
       "          4129          1\n",
       "19829     3947          1\n",
       "53908     8826          1\n",
       "Name: product_id, Length: 40242, dtype: int64"
      ]
     },
     "execution_count": 13,
     "metadata": {},
     "output_type": "execute_result"
    }
   ],
   "source": [
    "# Checking if same product listed in same order\n",
    "df_rec.groupby(['order_id','product_id'])['product_id'].count().sort_values(ascending=False)"
   ]
  },
  {
   "cell_type": "code",
   "execution_count": 14,
   "id": "7a2ea942-4bbb-4508-abc8-26fc13e3efe1",
   "metadata": {
    "tags": []
   },
   "outputs": [
    {
     "data": {
      "text/html": [
       "<div>\n",
       "<style scoped>\n",
       "    .dataframe tbody tr th:only-of-type {\n",
       "        vertical-align: middle;\n",
       "    }\n",
       "\n",
       "    .dataframe tbody tr th {\n",
       "        vertical-align: top;\n",
       "    }\n",
       "\n",
       "    .dataframe thead th {\n",
       "        text-align: right;\n",
       "    }\n",
       "</style>\n",
       "<table border=\"1\" class=\"dataframe\">\n",
       "  <thead>\n",
       "    <tr style=\"text-align: right;\">\n",
       "      <th></th>\n",
       "      <th>id</th>\n",
       "      <th>order_id</th>\n",
       "      <th>product_id</th>\n",
       "    </tr>\n",
       "  </thead>\n",
       "  <tbody>\n",
       "    <tr>\n",
       "      <th>24407</th>\n",
       "      <td>225313</td>\n",
       "      <td>33000</td>\n",
       "      <td>5799</td>\n",
       "    </tr>\n",
       "    <tr>\n",
       "      <th>24408</th>\n",
       "      <td>225314</td>\n",
       "      <td>33000</td>\n",
       "      <td>5824</td>\n",
       "    </tr>\n",
       "    <tr>\n",
       "      <th>24409</th>\n",
       "      <td>225315</td>\n",
       "      <td>33000</td>\n",
       "      <td>8822</td>\n",
       "    </tr>\n",
       "    <tr>\n",
       "      <th>24410</th>\n",
       "      <td>225316</td>\n",
       "      <td>33000</td>\n",
       "      <td>8823</td>\n",
       "    </tr>\n",
       "    <tr>\n",
       "      <th>24411</th>\n",
       "      <td>225318</td>\n",
       "      <td>33000</td>\n",
       "      <td>5799</td>\n",
       "    </tr>\n",
       "    <tr>\n",
       "      <th>24412</th>\n",
       "      <td>225319</td>\n",
       "      <td>33000</td>\n",
       "      <td>5824</td>\n",
       "    </tr>\n",
       "    <tr>\n",
       "      <th>24413</th>\n",
       "      <td>225320</td>\n",
       "      <td>33000</td>\n",
       "      <td>5822</td>\n",
       "    </tr>\n",
       "    <tr>\n",
       "      <th>24414</th>\n",
       "      <td>225321</td>\n",
       "      <td>33000</td>\n",
       "      <td>8822</td>\n",
       "    </tr>\n",
       "    <tr>\n",
       "      <th>24415</th>\n",
       "      <td>225322</td>\n",
       "      <td>33000</td>\n",
       "      <td>8823</td>\n",
       "    </tr>\n",
       "    <tr>\n",
       "      <th>24416</th>\n",
       "      <td>225324</td>\n",
       "      <td>33000</td>\n",
       "      <td>5799</td>\n",
       "    </tr>\n",
       "    <tr>\n",
       "      <th>24417</th>\n",
       "      <td>225325</td>\n",
       "      <td>33000</td>\n",
       "      <td>5823</td>\n",
       "    </tr>\n",
       "    <tr>\n",
       "      <th>24418</th>\n",
       "      <td>225327</td>\n",
       "      <td>33000</td>\n",
       "      <td>5799</td>\n",
       "    </tr>\n",
       "    <tr>\n",
       "      <th>24419</th>\n",
       "      <td>225328</td>\n",
       "      <td>33000</td>\n",
       "      <td>5822</td>\n",
       "    </tr>\n",
       "    <tr>\n",
       "      <th>24420</th>\n",
       "      <td>225330</td>\n",
       "      <td>33000</td>\n",
       "      <td>5799</td>\n",
       "    </tr>\n",
       "    <tr>\n",
       "      <th>24421</th>\n",
       "      <td>225331</td>\n",
       "      <td>33000</td>\n",
       "      <td>5824</td>\n",
       "    </tr>\n",
       "    <tr>\n",
       "      <th>24422</th>\n",
       "      <td>225332</td>\n",
       "      <td>33000</td>\n",
       "      <td>5825</td>\n",
       "    </tr>\n",
       "    <tr>\n",
       "      <th>24423</th>\n",
       "      <td>225333</td>\n",
       "      <td>33000</td>\n",
       "      <td>5823</td>\n",
       "    </tr>\n",
       "    <tr>\n",
       "      <th>24424</th>\n",
       "      <td>225335</td>\n",
       "      <td>33000</td>\n",
       "      <td>5799</td>\n",
       "    </tr>\n",
       "    <tr>\n",
       "      <th>24425</th>\n",
       "      <td>225336</td>\n",
       "      <td>33000</td>\n",
       "      <td>5824</td>\n",
       "    </tr>\n",
       "    <tr>\n",
       "      <th>24426</th>\n",
       "      <td>225338</td>\n",
       "      <td>33000</td>\n",
       "      <td>5800</td>\n",
       "    </tr>\n",
       "    <tr>\n",
       "      <th>24427</th>\n",
       "      <td>225339</td>\n",
       "      <td>33000</td>\n",
       "      <td>5823</td>\n",
       "    </tr>\n",
       "    <tr>\n",
       "      <th>24428</th>\n",
       "      <td>225340</td>\n",
       "      <td>33000</td>\n",
       "      <td>5824</td>\n",
       "    </tr>\n",
       "    <tr>\n",
       "      <th>24429</th>\n",
       "      <td>225342</td>\n",
       "      <td>33000</td>\n",
       "      <td>5799</td>\n",
       "    </tr>\n",
       "    <tr>\n",
       "      <th>24430</th>\n",
       "      <td>225343</td>\n",
       "      <td>33000</td>\n",
       "      <td>5824</td>\n",
       "    </tr>\n",
       "    <tr>\n",
       "      <th>24431</th>\n",
       "      <td>225344</td>\n",
       "      <td>33000</td>\n",
       "      <td>5823</td>\n",
       "    </tr>\n",
       "    <tr>\n",
       "      <th>24432</th>\n",
       "      <td>225346</td>\n",
       "      <td>33000</td>\n",
       "      <td>5799</td>\n",
       "    </tr>\n",
       "    <tr>\n",
       "      <th>24433</th>\n",
       "      <td>225347</td>\n",
       "      <td>33000</td>\n",
       "      <td>5824</td>\n",
       "    </tr>\n",
       "    <tr>\n",
       "      <th>24434</th>\n",
       "      <td>225349</td>\n",
       "      <td>33000</td>\n",
       "      <td>5799</td>\n",
       "    </tr>\n",
       "    <tr>\n",
       "      <th>24435</th>\n",
       "      <td>225350</td>\n",
       "      <td>33000</td>\n",
       "      <td>5824</td>\n",
       "    </tr>\n",
       "  </tbody>\n",
       "</table>\n",
       "</div>"
      ],
      "text/plain": [
       "           id  order_id  product_id\n",
       "24407  225313     33000        5799\n",
       "24408  225314     33000        5824\n",
       "24409  225315     33000        8822\n",
       "24410  225316     33000        8823\n",
       "24411  225318     33000        5799\n",
       "24412  225319     33000        5824\n",
       "24413  225320     33000        5822\n",
       "24414  225321     33000        8822\n",
       "24415  225322     33000        8823\n",
       "24416  225324     33000        5799\n",
       "24417  225325     33000        5823\n",
       "24418  225327     33000        5799\n",
       "24419  225328     33000        5822\n",
       "24420  225330     33000        5799\n",
       "24421  225331     33000        5824\n",
       "24422  225332     33000        5825\n",
       "24423  225333     33000        5823\n",
       "24424  225335     33000        5799\n",
       "24425  225336     33000        5824\n",
       "24426  225338     33000        5800\n",
       "24427  225339     33000        5823\n",
       "24428  225340     33000        5824\n",
       "24429  225342     33000        5799\n",
       "24430  225343     33000        5824\n",
       "24431  225344     33000        5823\n",
       "24432  225346     33000        5799\n",
       "24433  225347     33000        5824\n",
       "24434  225349     33000        5799\n",
       "24435  225350     33000        5824"
      ]
     },
     "execution_count": 14,
     "metadata": {},
     "output_type": "execute_result"
    }
   ],
   "source": [
    "# Cheking specifically order 33000\n",
    "df_rec[df_rec['order_id']==33000]"
   ]
  },
  {
   "cell_type": "code",
   "execution_count": 15,
   "id": "19309322-4cb2-40df-b3e8-b181a52acd09",
   "metadata": {
    "tags": []
   },
   "outputs": [
    {
     "data": {
      "text/html": [
       "<div>\n",
       "<style scoped>\n",
       "    .dataframe tbody tr th:only-of-type {\n",
       "        vertical-align: middle;\n",
       "    }\n",
       "\n",
       "    .dataframe tbody tr th {\n",
       "        vertical-align: top;\n",
       "    }\n",
       "\n",
       "    .dataframe thead th {\n",
       "        text-align: right;\n",
       "    }\n",
       "</style>\n",
       "<table border=\"1\" class=\"dataframe\">\n",
       "  <thead>\n",
       "    <tr style=\"text-align: right;\">\n",
       "      <th></th>\n",
       "      <th>order_id</th>\n",
       "      <th>product_id</th>\n",
       "    </tr>\n",
       "  </thead>\n",
       "  <tbody>\n",
       "    <tr>\n",
       "      <th>0</th>\n",
       "      <td>21</td>\n",
       "      <td>3999</td>\n",
       "    </tr>\n",
       "    <tr>\n",
       "      <th>1</th>\n",
       "      <td>21</td>\n",
       "      <td>3760</td>\n",
       "    </tr>\n",
       "    <tr>\n",
       "      <th>2</th>\n",
       "      <td>21</td>\n",
       "      <td>4248</td>\n",
       "    </tr>\n",
       "    <tr>\n",
       "      <th>3</th>\n",
       "      <td>21</td>\n",
       "      <td>3746</td>\n",
       "    </tr>\n",
       "    <tr>\n",
       "      <th>4</th>\n",
       "      <td>21</td>\n",
       "      <td>3747</td>\n",
       "    </tr>\n",
       "    <tr>\n",
       "      <th>...</th>\n",
       "      <td>...</td>\n",
       "      <td>...</td>\n",
       "    </tr>\n",
       "    <tr>\n",
       "      <th>41285</th>\n",
       "      <td>53905</td>\n",
       "      <td>8883</td>\n",
       "    </tr>\n",
       "    <tr>\n",
       "      <th>41286</th>\n",
       "      <td>53905</td>\n",
       "      <td>5398</td>\n",
       "    </tr>\n",
       "    <tr>\n",
       "      <th>41287</th>\n",
       "      <td>53905</td>\n",
       "      <td>8956</td>\n",
       "    </tr>\n",
       "    <tr>\n",
       "      <th>41288</th>\n",
       "      <td>53908</td>\n",
       "      <td>8826</td>\n",
       "    </tr>\n",
       "    <tr>\n",
       "      <th>41289</th>\n",
       "      <td>53908</td>\n",
       "      <td>5076</td>\n",
       "    </tr>\n",
       "  </tbody>\n",
       "</table>\n",
       "<p>41290 rows × 2 columns</p>\n",
       "</div>"
      ],
      "text/plain": [
       "       order_id  product_id\n",
       "0            21        3999\n",
       "1            21        3760\n",
       "2            21        4248\n",
       "3            21        3746\n",
       "4            21        3747\n",
       "...         ...         ...\n",
       "41285     53905        8883\n",
       "41286     53905        5398\n",
       "41287     53905        8956\n",
       "41288     53908        8826\n",
       "41289     53908        5076\n",
       "\n",
       "[41290 rows x 2 columns]"
      ]
     },
     "execution_count": 15,
     "metadata": {},
     "output_type": "execute_result"
    }
   ],
   "source": [
    "df_rec.drop('id', axis=1)"
   ]
  },
  {
   "cell_type": "code",
   "execution_count": 16,
   "id": "8fcd30a2-ab1f-4847-ba26-79cef5c26e6a",
   "metadata": {
    "tags": []
   },
   "outputs": [
    {
     "data": {
      "text/html": [
       "<div>\n",
       "<style scoped>\n",
       "    .dataframe tbody tr th:only-of-type {\n",
       "        vertical-align: middle;\n",
       "    }\n",
       "\n",
       "    .dataframe tbody tr th {\n",
       "        vertical-align: top;\n",
       "    }\n",
       "\n",
       "    .dataframe thead th {\n",
       "        text-align: right;\n",
       "    }\n",
       "</style>\n",
       "<table border=\"1\" class=\"dataframe\">\n",
       "  <thead>\n",
       "    <tr style=\"text-align: right;\">\n",
       "      <th></th>\n",
       "      <th></th>\n",
       "      <th>product_id</th>\n",
       "    </tr>\n",
       "    <tr>\n",
       "      <th>order_id</th>\n",
       "      <th>product_id</th>\n",
       "      <th></th>\n",
       "    </tr>\n",
       "  </thead>\n",
       "  <tbody>\n",
       "    <tr>\n",
       "      <th>18</th>\n",
       "      <th>4084</th>\n",
       "      <td>1</td>\n",
       "    </tr>\n",
       "    <tr>\n",
       "      <th rowspan=\"4\" valign=\"top\">21</th>\n",
       "      <th>3746</th>\n",
       "      <td>1</td>\n",
       "    </tr>\n",
       "    <tr>\n",
       "      <th>3747</th>\n",
       "      <td>1</td>\n",
       "    </tr>\n",
       "    <tr>\n",
       "      <th>3760</th>\n",
       "      <td>1</td>\n",
       "    </tr>\n",
       "    <tr>\n",
       "      <th>3938</th>\n",
       "      <td>1</td>\n",
       "    </tr>\n",
       "    <tr>\n",
       "      <th>...</th>\n",
       "      <th>...</th>\n",
       "      <td>...</td>\n",
       "    </tr>\n",
       "    <tr>\n",
       "      <th rowspan=\"3\" valign=\"top\">53905</th>\n",
       "      <th>5398</th>\n",
       "      <td>1</td>\n",
       "    </tr>\n",
       "    <tr>\n",
       "      <th>8883</th>\n",
       "      <td>1</td>\n",
       "    </tr>\n",
       "    <tr>\n",
       "      <th>8956</th>\n",
       "      <td>1</td>\n",
       "    </tr>\n",
       "    <tr>\n",
       "      <th rowspan=\"2\" valign=\"top\">53908</th>\n",
       "      <th>5076</th>\n",
       "      <td>1</td>\n",
       "    </tr>\n",
       "    <tr>\n",
       "      <th>8826</th>\n",
       "      <td>1</td>\n",
       "    </tr>\n",
       "  </tbody>\n",
       "</table>\n",
       "<p>40242 rows × 1 columns</p>\n",
       "</div>"
      ],
      "text/plain": [
       "                     product_id\n",
       "order_id product_id            \n",
       "18       4084                 1\n",
       "21       3746                 1\n",
       "         3747                 1\n",
       "         3760                 1\n",
       "         3938                 1\n",
       "...                         ...\n",
       "53905    5398                 1\n",
       "         8883                 1\n",
       "         8956                 1\n",
       "53908    5076                 1\n",
       "         8826                 1\n",
       "\n",
       "[40242 rows x 1 columns]"
      ]
     },
     "execution_count": 16,
     "metadata": {},
     "output_type": "execute_result"
    }
   ],
   "source": [
    "# Reordering dataframe, assigning order and product under same index\n",
    "df_basket = pd.DataFrame(df_rec.groupby(['order_id','product_id'])['product_id'].count())\n",
    "df_basket"
   ]
  },
  {
   "cell_type": "code",
   "execution_count": 17,
   "id": "d59985bc-fea3-4143-b71f-b46c9f3b4b6f",
   "metadata": {
    "tags": []
   },
   "outputs": [
    {
     "data": {
      "text/plain": [
       "Index(['product_id'], dtype='object')"
      ]
     },
     "execution_count": 17,
     "metadata": {},
     "output_type": "execute_result"
    }
   ],
   "source": [
    "df_basket.columns"
   ]
  },
  {
   "cell_type": "code",
   "execution_count": 18,
   "id": "a4010c53-0733-4fd7-a3b2-1950c21031a0",
   "metadata": {
    "tags": []
   },
   "outputs": [
    {
     "data": {
      "text/plain": [
       "(40242, 1)"
      ]
     },
     "execution_count": 18,
     "metadata": {},
     "output_type": "execute_result"
    }
   ],
   "source": [
    "df_basket.shape"
   ]
  },
  {
   "cell_type": "code",
   "execution_count": 19,
   "id": "a36bdbaf-7709-4247-bab9-ccc7f502fd2e",
   "metadata": {
    "tags": []
   },
   "outputs": [],
   "source": [
    "# Assigning Column name as Quantity for products\n",
    "df_basket.columns=['Quantity']"
   ]
  },
  {
   "cell_type": "code",
   "execution_count": 20,
   "id": "b722153c-13c3-4f94-8b47-2a075e00e39b",
   "metadata": {
    "tags": []
   },
   "outputs": [
    {
     "data": {
      "text/html": [
       "<div>\n",
       "<style scoped>\n",
       "    .dataframe tbody tr th:only-of-type {\n",
       "        vertical-align: middle;\n",
       "    }\n",
       "\n",
       "    .dataframe tbody tr th {\n",
       "        vertical-align: top;\n",
       "    }\n",
       "\n",
       "    .dataframe thead th {\n",
       "        text-align: right;\n",
       "    }\n",
       "</style>\n",
       "<table border=\"1\" class=\"dataframe\">\n",
       "  <thead>\n",
       "    <tr style=\"text-align: right;\">\n",
       "      <th></th>\n",
       "      <th></th>\n",
       "      <th>Quantity</th>\n",
       "    </tr>\n",
       "    <tr>\n",
       "      <th>order_id</th>\n",
       "      <th>product_id</th>\n",
       "      <th></th>\n",
       "    </tr>\n",
       "  </thead>\n",
       "  <tbody>\n",
       "    <tr>\n",
       "      <th>18</th>\n",
       "      <th>4084</th>\n",
       "      <td>1</td>\n",
       "    </tr>\n",
       "    <tr>\n",
       "      <th rowspan=\"4\" valign=\"top\">21</th>\n",
       "      <th>3746</th>\n",
       "      <td>1</td>\n",
       "    </tr>\n",
       "    <tr>\n",
       "      <th>3747</th>\n",
       "      <td>1</td>\n",
       "    </tr>\n",
       "    <tr>\n",
       "      <th>3760</th>\n",
       "      <td>1</td>\n",
       "    </tr>\n",
       "    <tr>\n",
       "      <th>3938</th>\n",
       "      <td>1</td>\n",
       "    </tr>\n",
       "    <tr>\n",
       "      <th>...</th>\n",
       "      <th>...</th>\n",
       "      <td>...</td>\n",
       "    </tr>\n",
       "    <tr>\n",
       "      <th rowspan=\"3\" valign=\"top\">53905</th>\n",
       "      <th>5398</th>\n",
       "      <td>1</td>\n",
       "    </tr>\n",
       "    <tr>\n",
       "      <th>8883</th>\n",
       "      <td>1</td>\n",
       "    </tr>\n",
       "    <tr>\n",
       "      <th>8956</th>\n",
       "      <td>1</td>\n",
       "    </tr>\n",
       "    <tr>\n",
       "      <th rowspan=\"2\" valign=\"top\">53908</th>\n",
       "      <th>5076</th>\n",
       "      <td>1</td>\n",
       "    </tr>\n",
       "    <tr>\n",
       "      <th>8826</th>\n",
       "      <td>1</td>\n",
       "    </tr>\n",
       "  </tbody>\n",
       "</table>\n",
       "<p>40242 rows × 1 columns</p>\n",
       "</div>"
      ],
      "text/plain": [
       "                     Quantity\n",
       "order_id product_id          \n",
       "18       4084               1\n",
       "21       3746               1\n",
       "         3747               1\n",
       "         3760               1\n",
       "         3938               1\n",
       "...                       ...\n",
       "53905    5398               1\n",
       "         8883               1\n",
       "         8956               1\n",
       "53908    5076               1\n",
       "         8826               1\n",
       "\n",
       "[40242 rows x 1 columns]"
      ]
     },
     "execution_count": 20,
     "metadata": {},
     "output_type": "execute_result"
    }
   ],
   "source": [
    "df_basket"
   ]
  },
  {
   "cell_type": "code",
   "execution_count": 21,
   "id": "b58dff06-4814-4daa-947b-6d9cd37f83e6",
   "metadata": {
    "tags": []
   },
   "outputs": [
    {
     "data": {
      "text/html": [
       "<div>\n",
       "<style scoped>\n",
       "    .dataframe tbody tr th:only-of-type {\n",
       "        vertical-align: middle;\n",
       "    }\n",
       "\n",
       "    .dataframe tbody tr th {\n",
       "        vertical-align: top;\n",
       "    }\n",
       "\n",
       "    .dataframe thead th {\n",
       "        text-align: right;\n",
       "    }\n",
       "</style>\n",
       "<table border=\"1\" class=\"dataframe\">\n",
       "  <thead>\n",
       "    <tr style=\"text-align: right;\">\n",
       "      <th></th>\n",
       "      <th>order_id</th>\n",
       "      <th>product_id</th>\n",
       "      <th>Quantity</th>\n",
       "    </tr>\n",
       "  </thead>\n",
       "  <tbody>\n",
       "    <tr>\n",
       "      <th>0</th>\n",
       "      <td>18</td>\n",
       "      <td>4084</td>\n",
       "      <td>1</td>\n",
       "    </tr>\n",
       "    <tr>\n",
       "      <th>1</th>\n",
       "      <td>21</td>\n",
       "      <td>3746</td>\n",
       "      <td>1</td>\n",
       "    </tr>\n",
       "    <tr>\n",
       "      <th>2</th>\n",
       "      <td>21</td>\n",
       "      <td>3747</td>\n",
       "      <td>1</td>\n",
       "    </tr>\n",
       "    <tr>\n",
       "      <th>3</th>\n",
       "      <td>21</td>\n",
       "      <td>3760</td>\n",
       "      <td>1</td>\n",
       "    </tr>\n",
       "    <tr>\n",
       "      <th>4</th>\n",
       "      <td>21</td>\n",
       "      <td>3938</td>\n",
       "      <td>1</td>\n",
       "    </tr>\n",
       "    <tr>\n",
       "      <th>...</th>\n",
       "      <td>...</td>\n",
       "      <td>...</td>\n",
       "      <td>...</td>\n",
       "    </tr>\n",
       "    <tr>\n",
       "      <th>40237</th>\n",
       "      <td>53905</td>\n",
       "      <td>5398</td>\n",
       "      <td>1</td>\n",
       "    </tr>\n",
       "    <tr>\n",
       "      <th>40238</th>\n",
       "      <td>53905</td>\n",
       "      <td>8883</td>\n",
       "      <td>1</td>\n",
       "    </tr>\n",
       "    <tr>\n",
       "      <th>40239</th>\n",
       "      <td>53905</td>\n",
       "      <td>8956</td>\n",
       "      <td>1</td>\n",
       "    </tr>\n",
       "    <tr>\n",
       "      <th>40240</th>\n",
       "      <td>53908</td>\n",
       "      <td>5076</td>\n",
       "      <td>1</td>\n",
       "    </tr>\n",
       "    <tr>\n",
       "      <th>40241</th>\n",
       "      <td>53908</td>\n",
       "      <td>8826</td>\n",
       "      <td>1</td>\n",
       "    </tr>\n",
       "  </tbody>\n",
       "</table>\n",
       "<p>40242 rows × 3 columns</p>\n",
       "</div>"
      ],
      "text/plain": [
       "       order_id  product_id  Quantity\n",
       "0            18        4084         1\n",
       "1            21        3746         1\n",
       "2            21        3747         1\n",
       "3            21        3760         1\n",
       "4            21        3938         1\n",
       "...         ...         ...       ...\n",
       "40237     53905        5398         1\n",
       "40238     53905        8883         1\n",
       "40239     53905        8956         1\n",
       "40240     53908        5076         1\n",
       "40241     53908        8826         1\n",
       "\n",
       "[40242 rows x 3 columns]"
      ]
     },
     "execution_count": 21,
     "metadata": {},
     "output_type": "execute_result"
    }
   ],
   "source": [
    "# Decreasing multi-indexing to single index\n",
    "df_basket_ind = df_basket.reset_index(level=[0,1])\n",
    "df_basket_ind"
   ]
  },
  {
   "cell_type": "code",
   "execution_count": 22,
   "id": "21f516bb-d5b3-40b7-a659-c407c0a0592e",
   "metadata": {
    "tags": []
   },
   "outputs": [
    {
     "data": {
      "text/plain": [
       "RangeIndex(start=0, stop=40242, step=1)"
      ]
     },
     "execution_count": 22,
     "metadata": {},
     "output_type": "execute_result"
    }
   ],
   "source": [
    "# Checking index\n",
    "df_basket_ind.index"
   ]
  },
  {
   "cell_type": "code",
   "execution_count": 23,
   "id": "cc01074c-a23e-4ffe-b3ac-f80c9e07ae0f",
   "metadata": {
    "tags": []
   },
   "outputs": [
    {
     "data": {
      "text/plain": [
       "Index(['order_id', 'product_id', 'Quantity'], dtype='object')"
      ]
     },
     "execution_count": 23,
     "metadata": {},
     "output_type": "execute_result"
    }
   ],
   "source": [
    "# Cheking columns\n",
    "df_basket_ind.columns"
   ]
  },
  {
   "cell_type": "code",
   "execution_count": 24,
   "id": "9084d200-8c76-401f-9453-4c9b2f7c8a2d",
   "metadata": {
    "tags": []
   },
   "outputs": [
    {
     "data": {
      "text/html": [
       "<div>\n",
       "<style scoped>\n",
       "    .dataframe tbody tr th:only-of-type {\n",
       "        vertical-align: middle;\n",
       "    }\n",
       "\n",
       "    .dataframe tbody tr th {\n",
       "        vertical-align: top;\n",
       "    }\n",
       "\n",
       "    .dataframe thead th {\n",
       "        text-align: right;\n",
       "    }\n",
       "</style>\n",
       "<table border=\"1\" class=\"dataframe\">\n",
       "  <thead>\n",
       "    <tr style=\"text-align: right;\">\n",
       "      <th>product_id</th>\n",
       "      <th>3720</th>\n",
       "      <th>3723</th>\n",
       "      <th>3731</th>\n",
       "      <th>3738</th>\n",
       "      <th>3742</th>\n",
       "      <th>3746</th>\n",
       "      <th>3747</th>\n",
       "      <th>3754</th>\n",
       "      <th>3760</th>\n",
       "      <th>3812</th>\n",
       "      <th>...</th>\n",
       "      <th>12020</th>\n",
       "      <th>12024</th>\n",
       "      <th>12025</th>\n",
       "      <th>12026</th>\n",
       "      <th>12027</th>\n",
       "      <th>12028</th>\n",
       "      <th>14512</th>\n",
       "      <th>14575</th>\n",
       "      <th>14576</th>\n",
       "      <th>19009</th>\n",
       "    </tr>\n",
       "    <tr>\n",
       "      <th>order_id</th>\n",
       "      <th></th>\n",
       "      <th></th>\n",
       "      <th></th>\n",
       "      <th></th>\n",
       "      <th></th>\n",
       "      <th></th>\n",
       "      <th></th>\n",
       "      <th></th>\n",
       "      <th></th>\n",
       "      <th></th>\n",
       "      <th></th>\n",
       "      <th></th>\n",
       "      <th></th>\n",
       "      <th></th>\n",
       "      <th></th>\n",
       "      <th></th>\n",
       "      <th></th>\n",
       "      <th></th>\n",
       "      <th></th>\n",
       "      <th></th>\n",
       "      <th></th>\n",
       "    </tr>\n",
       "  </thead>\n",
       "  <tbody>\n",
       "    <tr>\n",
       "      <th>18</th>\n",
       "      <td>0.0</td>\n",
       "      <td>0.0</td>\n",
       "      <td>0.0</td>\n",
       "      <td>0.0</td>\n",
       "      <td>0.0</td>\n",
       "      <td>0.0</td>\n",
       "      <td>0.0</td>\n",
       "      <td>0.0</td>\n",
       "      <td>0.0</td>\n",
       "      <td>0.0</td>\n",
       "      <td>...</td>\n",
       "      <td>0.0</td>\n",
       "      <td>0.0</td>\n",
       "      <td>0.0</td>\n",
       "      <td>0.0</td>\n",
       "      <td>0.0</td>\n",
       "      <td>0.0</td>\n",
       "      <td>0.0</td>\n",
       "      <td>0.0</td>\n",
       "      <td>0.0</td>\n",
       "      <td>0.0</td>\n",
       "    </tr>\n",
       "    <tr>\n",
       "      <th>21</th>\n",
       "      <td>0.0</td>\n",
       "      <td>0.0</td>\n",
       "      <td>0.0</td>\n",
       "      <td>0.0</td>\n",
       "      <td>0.0</td>\n",
       "      <td>1.0</td>\n",
       "      <td>1.0</td>\n",
       "      <td>0.0</td>\n",
       "      <td>1.0</td>\n",
       "      <td>0.0</td>\n",
       "      <td>...</td>\n",
       "      <td>0.0</td>\n",
       "      <td>0.0</td>\n",
       "      <td>0.0</td>\n",
       "      <td>0.0</td>\n",
       "      <td>0.0</td>\n",
       "      <td>0.0</td>\n",
       "      <td>0.0</td>\n",
       "      <td>0.0</td>\n",
       "      <td>0.0</td>\n",
       "      <td>0.0</td>\n",
       "    </tr>\n",
       "    <tr>\n",
       "      <th>22</th>\n",
       "      <td>0.0</td>\n",
       "      <td>0.0</td>\n",
       "      <td>0.0</td>\n",
       "      <td>0.0</td>\n",
       "      <td>0.0</td>\n",
       "      <td>0.0</td>\n",
       "      <td>0.0</td>\n",
       "      <td>0.0</td>\n",
       "      <td>0.0</td>\n",
       "      <td>0.0</td>\n",
       "      <td>...</td>\n",
       "      <td>0.0</td>\n",
       "      <td>0.0</td>\n",
       "      <td>0.0</td>\n",
       "      <td>0.0</td>\n",
       "      <td>0.0</td>\n",
       "      <td>0.0</td>\n",
       "      <td>0.0</td>\n",
       "      <td>0.0</td>\n",
       "      <td>0.0</td>\n",
       "      <td>0.0</td>\n",
       "    </tr>\n",
       "    <tr>\n",
       "      <th>31</th>\n",
       "      <td>0.0</td>\n",
       "      <td>0.0</td>\n",
       "      <td>0.0</td>\n",
       "      <td>0.0</td>\n",
       "      <td>0.0</td>\n",
       "      <td>0.0</td>\n",
       "      <td>0.0</td>\n",
       "      <td>0.0</td>\n",
       "      <td>0.0</td>\n",
       "      <td>0.0</td>\n",
       "      <td>...</td>\n",
       "      <td>0.0</td>\n",
       "      <td>0.0</td>\n",
       "      <td>0.0</td>\n",
       "      <td>0.0</td>\n",
       "      <td>0.0</td>\n",
       "      <td>0.0</td>\n",
       "      <td>0.0</td>\n",
       "      <td>0.0</td>\n",
       "      <td>0.0</td>\n",
       "      <td>0.0</td>\n",
       "    </tr>\n",
       "    <tr>\n",
       "      <th>40</th>\n",
       "      <td>0.0</td>\n",
       "      <td>0.0</td>\n",
       "      <td>0.0</td>\n",
       "      <td>0.0</td>\n",
       "      <td>0.0</td>\n",
       "      <td>0.0</td>\n",
       "      <td>0.0</td>\n",
       "      <td>0.0</td>\n",
       "      <td>0.0</td>\n",
       "      <td>0.0</td>\n",
       "      <td>...</td>\n",
       "      <td>0.0</td>\n",
       "      <td>0.0</td>\n",
       "      <td>0.0</td>\n",
       "      <td>0.0</td>\n",
       "      <td>0.0</td>\n",
       "      <td>0.0</td>\n",
       "      <td>0.0</td>\n",
       "      <td>0.0</td>\n",
       "      <td>0.0</td>\n",
       "      <td>0.0</td>\n",
       "    </tr>\n",
       "    <tr>\n",
       "      <th>...</th>\n",
       "      <td>...</td>\n",
       "      <td>...</td>\n",
       "      <td>...</td>\n",
       "      <td>...</td>\n",
       "      <td>...</td>\n",
       "      <td>...</td>\n",
       "      <td>...</td>\n",
       "      <td>...</td>\n",
       "      <td>...</td>\n",
       "      <td>...</td>\n",
       "      <td>...</td>\n",
       "      <td>...</td>\n",
       "      <td>...</td>\n",
       "      <td>...</td>\n",
       "      <td>...</td>\n",
       "      <td>...</td>\n",
       "      <td>...</td>\n",
       "      <td>...</td>\n",
       "      <td>...</td>\n",
       "      <td>...</td>\n",
       "      <td>...</td>\n",
       "    </tr>\n",
       "    <tr>\n",
       "      <th>53899</th>\n",
       "      <td>0.0</td>\n",
       "      <td>0.0</td>\n",
       "      <td>0.0</td>\n",
       "      <td>0.0</td>\n",
       "      <td>0.0</td>\n",
       "      <td>0.0</td>\n",
       "      <td>0.0</td>\n",
       "      <td>0.0</td>\n",
       "      <td>0.0</td>\n",
       "      <td>1.0</td>\n",
       "      <td>...</td>\n",
       "      <td>0.0</td>\n",
       "      <td>0.0</td>\n",
       "      <td>0.0</td>\n",
       "      <td>0.0</td>\n",
       "      <td>0.0</td>\n",
       "      <td>0.0</td>\n",
       "      <td>0.0</td>\n",
       "      <td>0.0</td>\n",
       "      <td>0.0</td>\n",
       "      <td>0.0</td>\n",
       "    </tr>\n",
       "    <tr>\n",
       "      <th>53901</th>\n",
       "      <td>0.0</td>\n",
       "      <td>0.0</td>\n",
       "      <td>0.0</td>\n",
       "      <td>0.0</td>\n",
       "      <td>0.0</td>\n",
       "      <td>0.0</td>\n",
       "      <td>0.0</td>\n",
       "      <td>0.0</td>\n",
       "      <td>0.0</td>\n",
       "      <td>0.0</td>\n",
       "      <td>...</td>\n",
       "      <td>0.0</td>\n",
       "      <td>0.0</td>\n",
       "      <td>0.0</td>\n",
       "      <td>0.0</td>\n",
       "      <td>0.0</td>\n",
       "      <td>0.0</td>\n",
       "      <td>0.0</td>\n",
       "      <td>0.0</td>\n",
       "      <td>0.0</td>\n",
       "      <td>0.0</td>\n",
       "    </tr>\n",
       "    <tr>\n",
       "      <th>53903</th>\n",
       "      <td>0.0</td>\n",
       "      <td>0.0</td>\n",
       "      <td>0.0</td>\n",
       "      <td>0.0</td>\n",
       "      <td>0.0</td>\n",
       "      <td>0.0</td>\n",
       "      <td>0.0</td>\n",
       "      <td>0.0</td>\n",
       "      <td>0.0</td>\n",
       "      <td>0.0</td>\n",
       "      <td>...</td>\n",
       "      <td>0.0</td>\n",
       "      <td>0.0</td>\n",
       "      <td>0.0</td>\n",
       "      <td>0.0</td>\n",
       "      <td>0.0</td>\n",
       "      <td>0.0</td>\n",
       "      <td>0.0</td>\n",
       "      <td>0.0</td>\n",
       "      <td>0.0</td>\n",
       "      <td>0.0</td>\n",
       "    </tr>\n",
       "    <tr>\n",
       "      <th>53905</th>\n",
       "      <td>0.0</td>\n",
       "      <td>0.0</td>\n",
       "      <td>0.0</td>\n",
       "      <td>0.0</td>\n",
       "      <td>0.0</td>\n",
       "      <td>0.0</td>\n",
       "      <td>0.0</td>\n",
       "      <td>0.0</td>\n",
       "      <td>0.0</td>\n",
       "      <td>0.0</td>\n",
       "      <td>...</td>\n",
       "      <td>0.0</td>\n",
       "      <td>0.0</td>\n",
       "      <td>0.0</td>\n",
       "      <td>0.0</td>\n",
       "      <td>0.0</td>\n",
       "      <td>0.0</td>\n",
       "      <td>0.0</td>\n",
       "      <td>0.0</td>\n",
       "      <td>0.0</td>\n",
       "      <td>0.0</td>\n",
       "    </tr>\n",
       "    <tr>\n",
       "      <th>53908</th>\n",
       "      <td>0.0</td>\n",
       "      <td>0.0</td>\n",
       "      <td>0.0</td>\n",
       "      <td>0.0</td>\n",
       "      <td>0.0</td>\n",
       "      <td>0.0</td>\n",
       "      <td>0.0</td>\n",
       "      <td>0.0</td>\n",
       "      <td>0.0</td>\n",
       "      <td>0.0</td>\n",
       "      <td>...</td>\n",
       "      <td>0.0</td>\n",
       "      <td>0.0</td>\n",
       "      <td>0.0</td>\n",
       "      <td>0.0</td>\n",
       "      <td>0.0</td>\n",
       "      <td>0.0</td>\n",
       "      <td>0.0</td>\n",
       "      <td>0.0</td>\n",
       "      <td>0.0</td>\n",
       "      <td>0.0</td>\n",
       "    </tr>\n",
       "  </tbody>\n",
       "</table>\n",
       "<p>20201 rows × 950 columns</p>\n",
       "</div>"
      ],
      "text/plain": [
       "product_id  3720   3723   3731   3738   3742   3746   3747   3754   3760   \\\n",
       "order_id                                                                    \n",
       "18            0.0    0.0    0.0    0.0    0.0    0.0    0.0    0.0    0.0   \n",
       "21            0.0    0.0    0.0    0.0    0.0    1.0    1.0    0.0    1.0   \n",
       "22            0.0    0.0    0.0    0.0    0.0    0.0    0.0    0.0    0.0   \n",
       "31            0.0    0.0    0.0    0.0    0.0    0.0    0.0    0.0    0.0   \n",
       "40            0.0    0.0    0.0    0.0    0.0    0.0    0.0    0.0    0.0   \n",
       "...           ...    ...    ...    ...    ...    ...    ...    ...    ...   \n",
       "53899         0.0    0.0    0.0    0.0    0.0    0.0    0.0    0.0    0.0   \n",
       "53901         0.0    0.0    0.0    0.0    0.0    0.0    0.0    0.0    0.0   \n",
       "53903         0.0    0.0    0.0    0.0    0.0    0.0    0.0    0.0    0.0   \n",
       "53905         0.0    0.0    0.0    0.0    0.0    0.0    0.0    0.0    0.0   \n",
       "53908         0.0    0.0    0.0    0.0    0.0    0.0    0.0    0.0    0.0   \n",
       "\n",
       "product_id  3812   ...  12020  12024  12025  12026  12027  12028  14512  \\\n",
       "order_id           ...                                                    \n",
       "18            0.0  ...    0.0    0.0    0.0    0.0    0.0    0.0    0.0   \n",
       "21            0.0  ...    0.0    0.0    0.0    0.0    0.0    0.0    0.0   \n",
       "22            0.0  ...    0.0    0.0    0.0    0.0    0.0    0.0    0.0   \n",
       "31            0.0  ...    0.0    0.0    0.0    0.0    0.0    0.0    0.0   \n",
       "40            0.0  ...    0.0    0.0    0.0    0.0    0.0    0.0    0.0   \n",
       "...           ...  ...    ...    ...    ...    ...    ...    ...    ...   \n",
       "53899         1.0  ...    0.0    0.0    0.0    0.0    0.0    0.0    0.0   \n",
       "53901         0.0  ...    0.0    0.0    0.0    0.0    0.0    0.0    0.0   \n",
       "53903         0.0  ...    0.0    0.0    0.0    0.0    0.0    0.0    0.0   \n",
       "53905         0.0  ...    0.0    0.0    0.0    0.0    0.0    0.0    0.0   \n",
       "53908         0.0  ...    0.0    0.0    0.0    0.0    0.0    0.0    0.0   \n",
       "\n",
       "product_id  14575  14576  19009  \n",
       "order_id                         \n",
       "18            0.0    0.0    0.0  \n",
       "21            0.0    0.0    0.0  \n",
       "22            0.0    0.0    0.0  \n",
       "31            0.0    0.0    0.0  \n",
       "40            0.0    0.0    0.0  \n",
       "...           ...    ...    ...  \n",
       "53899         0.0    0.0    0.0  \n",
       "53901         0.0    0.0    0.0  \n",
       "53903         0.0    0.0    0.0  \n",
       "53905         0.0    0.0    0.0  \n",
       "53908         0.0    0.0    0.0  \n",
       "\n",
       "[20201 rows x 950 columns]"
      ]
     },
     "execution_count": 24,
     "metadata": {},
     "output_type": "execute_result"
    }
   ],
   "source": [
    "# Creating pivot table to see each order with product\n",
    "df_pivot = df_basket_ind.pivot_table(index='order_id', columns=['product_id'], values='Quantity').fillna(0)\n",
    "df_pivot"
   ]
  },
  {
   "cell_type": "markdown",
   "id": "9ba7e380-af03-49b5-82e8-fcaa563b323f",
   "metadata": {},
   "source": [
    "### Confirming Data in Pivot Table"
   ]
  },
  {
   "cell_type": "code",
   "execution_count": 25,
   "id": "d62eba07-cda4-4e6a-8d7c-88d9c6c44416",
   "metadata": {
    "tags": []
   },
   "outputs": [
    {
     "data": {
      "text/plain": [
       "9.0"
      ]
     },
     "execution_count": 25,
     "metadata": {},
     "output_type": "execute_result"
    }
   ],
   "source": [
    "df_pivot.loc[33000][5799]"
   ]
  },
  {
   "cell_type": "code",
   "execution_count": 26,
   "id": "3fed2090-1126-4451-82f7-f83fae3f7997",
   "metadata": {
    "tags": []
   },
   "outputs": [
    {
     "data": {
      "text/plain": [
       "8.0"
      ]
     },
     "execution_count": 26,
     "metadata": {},
     "output_type": "execute_result"
    }
   ],
   "source": [
    "df_pivot.loc[46241][5894]"
   ]
  },
  {
   "cell_type": "markdown",
   "id": "18e99090-961d-4dcd-90cf-513492b6a550",
   "metadata": {},
   "source": [
    "### Creating a Function That Returns Recommendation For Selected Product"
   ]
  },
  {
   "cell_type": "code",
   "execution_count": 27,
   "id": "4ba6e640-a763-4ca8-85b7-f8cb3e421cab",
   "metadata": {
    "tags": []
   },
   "outputs": [],
   "source": [
    "def get_recommendations(product):\n",
    "    \"\"\"Generate a set of product recommendations using item-based collaborative filtering.\n",
    "    \n",
    "    Args:\n",
    "        \n",
    "        item (string): Column name for target item. \n",
    "        \n",
    "    Returns: \n",
    "        recommendations (dataframe): Pandas dataframe containing product recommendations. \n",
    "    \"\"\"\n",
    "    \n",
    "    recommendations = df_pivot.corrwith(df_pivot[product])\n",
    "    recommendations.dropna(inplace=True)\n",
    "    recommendations = pd.DataFrame(recommendations, columns=['Correlation']).reset_index()\n",
    "    recommendations = recommendations.sort_values(by='Correlation', ascending=False)\n",
    "    \n",
    "    return recommendations"
   ]
  },
  {
   "cell_type": "code",
   "execution_count": 28,
   "id": "765b34b5-3fae-4973-8c98-8d8513f86322",
   "metadata": {
    "tags": []
   },
   "outputs": [
    {
     "data": {
      "text/html": [
       "<div>\n",
       "<style scoped>\n",
       "    .dataframe tbody tr th:only-of-type {\n",
       "        vertical-align: middle;\n",
       "    }\n",
       "\n",
       "    .dataframe tbody tr th {\n",
       "        vertical-align: top;\n",
       "    }\n",
       "\n",
       "    .dataframe thead th {\n",
       "        text-align: right;\n",
       "    }\n",
       "</style>\n",
       "<table border=\"1\" class=\"dataframe\">\n",
       "  <thead>\n",
       "    <tr style=\"text-align: right;\">\n",
       "      <th></th>\n",
       "      <th>product_id</th>\n",
       "      <th>Correlation</th>\n",
       "    </tr>\n",
       "  </thead>\n",
       "  <tbody>\n",
       "    <tr>\n",
       "      <th>361</th>\n",
       "      <td>5799</td>\n",
       "      <td>1.000000</td>\n",
       "    </tr>\n",
       "    <tr>\n",
       "      <th>375</th>\n",
       "      <td>5824</td>\n",
       "      <td>0.362633</td>\n",
       "    </tr>\n",
       "    <tr>\n",
       "      <th>374</th>\n",
       "      <td>5823</td>\n",
       "      <td>0.177476</td>\n",
       "    </tr>\n",
       "    <tr>\n",
       "      <th>622</th>\n",
       "      <td>8823</td>\n",
       "      <td>0.158811</td>\n",
       "    </tr>\n",
       "    <tr>\n",
       "      <th>621</th>\n",
       "      <td>8822</td>\n",
       "      <td>0.140867</td>\n",
       "    </tr>\n",
       "  </tbody>\n",
       "</table>\n",
       "</div>"
      ],
      "text/plain": [
       "     product_id  Correlation\n",
       "361        5799     1.000000\n",
       "375        5824     0.362633\n",
       "374        5823     0.177476\n",
       "622        8823     0.158811\n",
       "621        8822     0.140867"
      ]
     },
     "execution_count": 28,
     "metadata": {},
     "output_type": "execute_result"
    }
   ],
   "source": [
    "# Recommendation for the product 5799\n",
    "recommendations = get_recommendations(5799)\n",
    "recommendations.head()"
   ]
  },
  {
   "cell_type": "code",
   "execution_count": 29,
   "id": "a631209e-5ede-46c8-95af-ecc1ecd8fb64",
   "metadata": {
    "tags": []
   },
   "outputs": [
    {
     "data": {
      "text/html": [
       "<div>\n",
       "<style scoped>\n",
       "    .dataframe tbody tr th:only-of-type {\n",
       "        vertical-align: middle;\n",
       "    }\n",
       "\n",
       "    .dataframe tbody tr th {\n",
       "        vertical-align: top;\n",
       "    }\n",
       "\n",
       "    .dataframe thead th {\n",
       "        text-align: right;\n",
       "    }\n",
       "</style>\n",
       "<table border=\"1\" class=\"dataframe\">\n",
       "  <thead>\n",
       "    <tr style=\"text-align: right;\">\n",
       "      <th></th>\n",
       "      <th>product_id</th>\n",
       "      <th>Correlation</th>\n",
       "    </tr>\n",
       "  </thead>\n",
       "  <tbody>\n",
       "    <tr>\n",
       "      <th>400</th>\n",
       "      <td>5894</td>\n",
       "      <td>1.000000</td>\n",
       "    </tr>\n",
       "    <tr>\n",
       "      <th>641</th>\n",
       "      <td>8894</td>\n",
       "      <td>0.397336</td>\n",
       "    </tr>\n",
       "    <tr>\n",
       "      <th>359</th>\n",
       "      <td>5797</td>\n",
       "      <td>0.261619</td>\n",
       "    </tr>\n",
       "    <tr>\n",
       "      <th>477</th>\n",
       "      <td>6114</td>\n",
       "      <td>0.255881</td>\n",
       "    </tr>\n",
       "    <tr>\n",
       "      <th>663</th>\n",
       "      <td>8980</td>\n",
       "      <td>0.241885</td>\n",
       "    </tr>\n",
       "  </tbody>\n",
       "</table>\n",
       "</div>"
      ],
      "text/plain": [
       "     product_id  Correlation\n",
       "400        5894     1.000000\n",
       "641        8894     0.397336\n",
       "359        5797     0.261619\n",
       "477        6114     0.255881\n",
       "663        8980     0.241885"
      ]
     },
     "execution_count": 29,
     "metadata": {},
     "output_type": "execute_result"
    }
   ],
   "source": [
    "# Recommendation for the product 5894\n",
    "recommendations = get_recommendations(5894)\n",
    "recommendations.head()"
   ]
  },
  {
   "cell_type": "code",
   "execution_count": 30,
   "id": "34be2ff5-78f7-46be-af76-e09c3cc39cdf",
   "metadata": {},
   "outputs": [
    {
     "data": {
      "text/html": [
       "<div>\n",
       "<style scoped>\n",
       "    .dataframe tbody tr th:only-of-type {\n",
       "        vertical-align: middle;\n",
       "    }\n",
       "\n",
       "    .dataframe tbody tr th {\n",
       "        vertical-align: top;\n",
       "    }\n",
       "\n",
       "    .dataframe thead th {\n",
       "        text-align: right;\n",
       "    }\n",
       "</style>\n",
       "<table border=\"1\" class=\"dataframe\">\n",
       "  <thead>\n",
       "    <tr style=\"text-align: right;\">\n",
       "      <th></th>\n",
       "      <th>product_id</th>\n",
       "      <th>Correlation</th>\n",
       "    </tr>\n",
       "  </thead>\n",
       "  <tbody>\n",
       "    <tr>\n",
       "      <th>228</th>\n",
       "      <td>5076</td>\n",
       "      <td>1.000000</td>\n",
       "    </tr>\n",
       "    <tr>\n",
       "      <th>351</th>\n",
       "      <td>5733</td>\n",
       "      <td>0.162011</td>\n",
       "    </tr>\n",
       "    <tr>\n",
       "      <th>505</th>\n",
       "      <td>6152</td>\n",
       "      <td>0.054461</td>\n",
       "    </tr>\n",
       "    <tr>\n",
       "      <th>572</th>\n",
       "      <td>8670</td>\n",
       "      <td>0.053294</td>\n",
       "    </tr>\n",
       "    <tr>\n",
       "      <th>336</th>\n",
       "      <td>5589</td>\n",
       "      <td>0.044026</td>\n",
       "    </tr>\n",
       "  </tbody>\n",
       "</table>\n",
       "</div>"
      ],
      "text/plain": [
       "     product_id  Correlation\n",
       "228        5076     1.000000\n",
       "351        5733     0.162011\n",
       "505        6152     0.054461\n",
       "572        8670     0.053294\n",
       "336        5589     0.044026"
      ]
     },
     "execution_count": 30,
     "metadata": {},
     "output_type": "execute_result"
    }
   ],
   "source": [
    "# Recommendation for the product 5076\n",
    "recommendations = get_recommendations(5076)\n",
    "recommendations.head()"
   ]
  },
  {
   "cell_type": "code",
   "execution_count": 31,
   "id": "d37c90e5-eae5-4ae6-956f-cc654ec4a563",
   "metadata": {},
   "outputs": [
    {
     "data": {
      "text/html": [
       "<div>\n",
       "<style scoped>\n",
       "    .dataframe tbody tr th:only-of-type {\n",
       "        vertical-align: middle;\n",
       "    }\n",
       "\n",
       "    .dataframe tbody tr th {\n",
       "        vertical-align: top;\n",
       "    }\n",
       "\n",
       "    .dataframe thead th {\n",
       "        text-align: right;\n",
       "    }\n",
       "</style>\n",
       "<table border=\"1\" class=\"dataframe\">\n",
       "  <thead>\n",
       "    <tr style=\"text-align: right;\">\n",
       "      <th></th>\n",
       "      <th>product_id</th>\n",
       "      <th>Correlation</th>\n",
       "    </tr>\n",
       "  </thead>\n",
       "  <tbody>\n",
       "    <tr>\n",
       "      <th>351</th>\n",
       "      <td>5733</td>\n",
       "      <td>0.162011</td>\n",
       "    </tr>\n",
       "    <tr>\n",
       "      <th>505</th>\n",
       "      <td>6152</td>\n",
       "      <td>0.054461</td>\n",
       "    </tr>\n",
       "    <tr>\n",
       "      <th>572</th>\n",
       "      <td>8670</td>\n",
       "      <td>0.053294</td>\n",
       "    </tr>\n",
       "    <tr>\n",
       "      <th>336</th>\n",
       "      <td>5589</td>\n",
       "      <td>0.044026</td>\n",
       "    </tr>\n",
       "    <tr>\n",
       "      <th>656</th>\n",
       "      <td>8956</td>\n",
       "      <td>0.041051</td>\n",
       "    </tr>\n",
       "  </tbody>\n",
       "</table>\n",
       "</div>"
      ],
      "text/plain": [
       "     product_id  Correlation\n",
       "351        5733     0.162011\n",
       "505        6152     0.054461\n",
       "572        8670     0.053294\n",
       "336        5589     0.044026\n",
       "656        8956     0.041051"
      ]
     },
     "execution_count": 31,
     "metadata": {},
     "output_type": "execute_result"
    }
   ],
   "source": [
    "recommendations[1:].head()"
   ]
  },
  {
   "cell_type": "code",
   "execution_count": 32,
   "id": "b077b7a2-c7c8-42c3-8b3d-71620a3d4587",
   "metadata": {},
   "outputs": [
    {
     "data": {
      "image/png": "[encoded data removed]",
      "text/plain": [
       "<Figure size 432x288 with 1 Axes>"
      ]
     },
     "metadata": {},
     "output_type": "display_data"
    }
   ],
   "source": [
    "# Correlation bar plot for recommended items\n",
    "recommendations.Correlation[1:].head(10).plot(kind='bar')\n",
    "plt.title('Recommended Products with 5076');"
   ]
  },
  {
   "cell_type": "markdown",
   "id": "4888e4ad-3eb1-4beb-ba8e-60261ccf5155",
   "metadata": {},
   "source": [
    "### Model Deployment"
   ]
  },
  {
   "cell_type": "code",
   "execution_count": null,
   "id": "66b5a461-63a3-40b2-955f-8adb129c946f",
   "metadata": {},
   "outputs": [],
   "source": [
    "import pickle\n",
    "pickle.dum(model_recom, open('model_recom','wb'))"
   ]
  }
 ],
 "metadata": {
  "kernelspec": {
   "display_name": "Python 3 (ipykernel)",
   "language": "python",
   "name": "python3"
  },
  "language_info": {
   "codemirror_mode": {
    "name": "ipython",
    "version": 3
   },
   "file_extension": ".py",
   "mimetype": "text/x-python",
   "name": "python",
   "nbconvert_exporter": "python",
   "pygments_lexer": "ipython3",
   "version": "3.9.7"
  }
 },
 "nbformat": 4,
 "nbformat_minor": 5
}
